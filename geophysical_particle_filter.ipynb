{
 "cells": [
  {
   "cell_type": "markdown",
   "metadata": {},
   "source": [
    "# Geophysical particle filter\n",
    "\n",
    "The point of this notebook is to recreate on an unclassified dataset and unrelated codebase the deep water bathymetric particle filter results, and include additional results for gravity and magnetic measurements. The function of this notebook is to serve as a prototyping and low-scale 'simulation' environment. \n",
    "\n",
    "First, let's import the stuff needed."
   ]
  },
  {
   "cell_type": "code",
   "execution_count": 1,
   "metadata": {},
   "outputs": [],
   "source": [
    "import numpy as np\n",
    "from gmt_tool import get_map_section, inflate_bounds, get_map_point\n",
    "from haversine import haversine, Unit\n",
    "from tools import load_trackline_data\n",
    "from matplotlib import pyplot as plt\n",
    "from particle_filter import run_particle_filter, propagate, plot_error, plot_estimate, plot_map_and_trajectory\n",
    "import pandas as pd\n",
    "from datetime import timedelta\n",
    "from scipy.io import savemat"
   ]
  },
  {
   "cell_type": "markdown",
   "metadata": {},
   "source": [
    "First we need to tune the particle filter propagation noise to be similar to that of a marine-grade inertial navigation system. A low-end marine-grade INS should have a drift of 1 nm per 24 hours."
   ]
  },
  {
   "cell_type": "code",
   "execution_count": null,
   "metadata": {},
   "outputs": [],
   "source": [
    "from particle_filter import rmse\n",
    "\n",
    "time = 24*60 # minutes\n",
    "noise = np.array([0, 0.1 * np.sqrt(1/60),0])\n",
    "bound = 1852 # meters\n",
    "v = 4*bound / 3600 # m / min\n",
    "P = np.asarray([[0,0,0,0,v,0]])\n",
    "T = P\n",
    "err = rmse(P[0,:2], T[0, :2])\n",
    "errors = [err]\n",
    "t = 0\n",
    "u = [0,v,0]\n",
    "\n",
    "while t < time:    \n",
    "    P = propagate(P, u, noise=noise)\n",
    "    T = propagate(T, u, noise=[0,0,0])\n",
    "    errors.append(rmse(P[0,:2], T[0, :2]))\n",
    "\n",
    "plt.plot(errors)"
   ]
  },
  {
   "cell_type": "code",
   "execution_count": null,
   "metadata": {},
   "outputs": [],
   "source": [
    "P = propagate(P, [0,v,0], 60)"
   ]
  },
  {
   "cell_type": "markdown",
   "metadata": {},
   "source": [
    "We'll first do some general examination of the data. Namely, investigating the sensor measurements to see if we can build a reasonable sensor model."
   ]
  },
  {
   "cell_type": "code",
   "execution_count": null,
   "metadata": {},
   "outputs": [],
   "source": [
    "d_bathy = np.asarray([])\n",
    "#d_grav = np.asarray([])\n",
    "#d_mag = np.asarray([])\n",
    "for i in range(20):\n",
    "    data = load_trackline_data(f'./data/processed/marine_trackline_{i}.csv')\n",
    "    min_lon = data.LON.min()\n",
    "    max_lon = data.LON.max()\n",
    "    min_lat = data.LAT.min()\n",
    "    max_lat = data.LAT.max()\n",
    "    min_lon, min_lat, max_lon, max_lat = inflate_bounds(min_lon, min_lat, max_lon, max_lat, 0.25)\n",
    "    bathy_map = get_map_section(min_lon, max_lon, min_lat, max_lat, 'relief', '15s', f'track{i}')\n",
    "#    grav_map = get_map_section(min_lon, max_lon, min_lat, max_lat, 'gravity', '01m', f'track{i}')\n",
    "#    mag_map = get_map_section(min_lon, max_lon, min_lat, max_lat, 'magnetic', '02m', f'track{i}')\n",
    "    d_bathy = np.hstack([d_bathy, data['CORR_DEPTH'] - (-get_map_point(bathy_map, data.LON, data.LAT))])\n",
    "#    d_grav = np.hstack([data['FREEAIR'] - get_map_point(grav_map, data.LON, data.LAT)])\n",
    "#    d_mag = np.hstack([data['CORR_DEPTH'] - get_map_point(bathy_map, data.LON, data.LAT)])\n",
    "\n",
    "bathy_sigma = np.std(d_bathy, where=~np.isnan(d_bathy))"
   ]
  },
  {
   "cell_type": "markdown",
   "metadata": {},
   "source": [
    "Now let's run the trajectory"
   ]
  },
  {
   "cell_type": "code",
   "execution_count": null,
   "metadata": {},
   "outputs": [],
   "source": [
    "# Load the trajectory file\n",
    "for num in range(20):\n",
    "    name = f'marine_trackline_{num}'\n",
    "    data = load_trackline_data(f'./data/processed/{name}.csv')\n",
    "\n",
    "    # Create the map\n",
    "    min_lon = data.LON.min()\n",
    "    max_lon = data.LON.max()\n",
    "    min_lat = data.LAT.min()\n",
    "    max_lat = data.LAT.max()\n",
    "    min_lon, min_lat, max_lon, max_lat = inflate_bounds(min_lon, min_lat, max_lon, max_lat, 0.25)\n",
    "    geo_map = get_map_section(min_lon, max_lon, min_lat, max_lat, 'relief', '15s', f'track{num}')\n",
    "    \n",
    "    # Run the particle filter\n",
    "    N = 10000\n",
    "    # Intial parameters\n",
    "    mu = [data.LAT[0], data.LON[0], 0, 0, 0, 0]\n",
    "    cov = np.diag([1/60, 1/60, 0, 0.1, 0.1, 0])\n",
    "    # Run PF\n",
    "    estimate, error, rms_error = run_particle_filter(mu, cov, N, data, geo_map, measurement_sigma=bathy_sigma)\n",
    "\n",
    "    \n",
    "\n",
    "    \n",
    "    plt.show()\n",
    "    plt.savefig(f'{name}_Error.png')\n",
    "\n",
    "    # Save particle filter error characteristics.\n",
    "    results = {'estimate':estimate, 'error':error, 'rmse':rms_error}\n",
    "    savemat(f'{name}_errors.mat', results)"
   ]
  },
  {
   "cell_type": "code",
   "execution_count": 14,
   "metadata": {},
   "outputs": [],
   "source": [
    "from datetime import timedelta"
   ]
  },
  {
   "cell_type": "code",
   "execution_count": 27,
   "metadata": {},
   "outputs": [
    {
     "data": {
      "text/html": [
       "<div>\n",
       "<style scoped>\n",
       "    .dataframe tbody tr th:only-of-type {\n",
       "        vertical-align: middle;\n",
       "    }\n",
       "\n",
       "    .dataframe tbody tr th {\n",
       "        vertical-align: top;\n",
       "    }\n",
       "\n",
       "    .dataframe thead th {\n",
       "        text-align: right;\n",
       "    }\n",
       "</style>\n",
       "<table border=\"1\" class=\"dataframe\">\n",
       "  <thead>\n",
       "    <tr style=\"text-align: right;\">\n",
       "      <th></th>\n",
       "      <th>LAT</th>\n",
       "      <th>LON</th>\n",
       "      <th>BAT_TTIME</th>\n",
       "      <th>CORR_DEPTH</th>\n",
       "      <th>MAG_TOT</th>\n",
       "      <th>MAG_RES</th>\n",
       "      <th>FREEAIR</th>\n",
       "    </tr>\n",
       "  </thead>\n",
       "  <tbody>\n",
       "    <tr>\n",
       "      <th>2001-12-09 05:43:00+05:00</th>\n",
       "      <td>-38.01339</td>\n",
       "      <td>109.88378</td>\n",
       "      <td>6.075</td>\n",
       "      <td>4562.0</td>\n",
       "      <td>60710.0</td>\n",
       "      <td>-6.0</td>\n",
       "      <td>15.4</td>\n",
       "    </tr>\n",
       "    <tr>\n",
       "      <th>2001-12-09 05:44:00+05:00</th>\n",
       "      <td>-38.01561</td>\n",
       "      <td>109.88164</td>\n",
       "      <td>6.057</td>\n",
       "      <td>4549.0</td>\n",
       "      <td>60708.0</td>\n",
       "      <td>-8.0</td>\n",
       "      <td>12.9</td>\n",
       "    </tr>\n",
       "    <tr>\n",
       "      <th>2001-12-09 05:45:00+05:00</th>\n",
       "      <td>-38.01783</td>\n",
       "      <td>109.87948</td>\n",
       "      <td>6.080</td>\n",
       "      <td>4566.0</td>\n",
       "      <td>60708.0</td>\n",
       "      <td>-8.0</td>\n",
       "      <td>13.1</td>\n",
       "    </tr>\n",
       "    <tr>\n",
       "      <th>2001-12-09 05:46:00+05:00</th>\n",
       "      <td>-38.01999</td>\n",
       "      <td>109.87737</td>\n",
       "      <td>6.067</td>\n",
       "      <td>4556.0</td>\n",
       "      <td>60710.0</td>\n",
       "      <td>-8.0</td>\n",
       "      <td>11.5</td>\n",
       "    </tr>\n",
       "    <tr>\n",
       "      <th>2001-12-09 05:47:00+05:00</th>\n",
       "      <td>-38.02222</td>\n",
       "      <td>109.87526</td>\n",
       "      <td>6.072</td>\n",
       "      <td>4560.0</td>\n",
       "      <td>60711.0</td>\n",
       "      <td>-7.0</td>\n",
       "      <td>11.5</td>\n",
       "    </tr>\n",
       "    <tr>\n",
       "      <th>...</th>\n",
       "      <td>...</td>\n",
       "      <td>...</td>\n",
       "      <td>...</td>\n",
       "      <td>...</td>\n",
       "      <td>...</td>\n",
       "      <td>...</td>\n",
       "      <td>...</td>\n",
       "    </tr>\n",
       "    <tr>\n",
       "      <th>2002-01-23 11:30:00+05:00</th>\n",
       "      <td>-46.37401</td>\n",
       "      <td>138.81362</td>\n",
       "      <td>5.244</td>\n",
       "      <td>3925.0</td>\n",
       "      <td>64322.0</td>\n",
       "      <td>-120.0</td>\n",
       "      <td>34.0</td>\n",
       "    </tr>\n",
       "    <tr>\n",
       "      <th>2002-01-23 11:40:00+05:00</th>\n",
       "      <td>-46.37278</td>\n",
       "      <td>138.81795</td>\n",
       "      <td>5.225</td>\n",
       "      <td>3911.0</td>\n",
       "      <td>64323.0</td>\n",
       "      <td>-118.0</td>\n",
       "      <td>31.9</td>\n",
       "    </tr>\n",
       "    <tr>\n",
       "      <th>2002-01-23 11:50:00+05:00</th>\n",
       "      <td>-46.37151</td>\n",
       "      <td>138.82229</td>\n",
       "      <td>5.207</td>\n",
       "      <td>3897.0</td>\n",
       "      <td>64324.0</td>\n",
       "      <td>-116.0</td>\n",
       "      <td>32.4</td>\n",
       "    </tr>\n",
       "    <tr>\n",
       "      <th>2002-01-23 11:10:00+05:00</th>\n",
       "      <td>-46.36555</td>\n",
       "      <td>138.84374</td>\n",
       "      <td>5.333</td>\n",
       "      <td>3993.0</td>\n",
       "      <td>64351.0</td>\n",
       "      <td>-86.0</td>\n",
       "      <td>33.0</td>\n",
       "    </tr>\n",
       "    <tr>\n",
       "      <th>2002-01-23 11:11:00+05:00</th>\n",
       "      <td>-46.36447</td>\n",
       "      <td>138.84723</td>\n",
       "      <td>5.321</td>\n",
       "      <td>3984.0</td>\n",
       "      <td>64353.0</td>\n",
       "      <td>-84.0</td>\n",
       "      <td>35.4</td>\n",
       "    </tr>\n",
       "  </tbody>\n",
       "</table>\n",
       "<p>22036 rows × 7 columns</p>\n",
       "</div>"
      ],
      "text/plain": [
       "                                LAT        LON  ...  MAG_RES  FREEAIR\n",
       "2001-12-09 05:43:00+05:00 -38.01339  109.88378  ...     -6.0     15.4\n",
       "2001-12-09 05:44:00+05:00 -38.01561  109.88164  ...     -8.0     12.9\n",
       "2001-12-09 05:45:00+05:00 -38.01783  109.87948  ...     -8.0     13.1\n",
       "2001-12-09 05:46:00+05:00 -38.01999  109.87737  ...     -8.0     11.5\n",
       "2001-12-09 05:47:00+05:00 -38.02222  109.87526  ...     -7.0     11.5\n",
       "...                             ...        ...  ...      ...      ...\n",
       "2002-01-23 11:30:00+05:00 -46.37401  138.81362  ...   -120.0     34.0\n",
       "2002-01-23 11:40:00+05:00 -46.37278  138.81795  ...   -118.0     31.9\n",
       "2002-01-23 11:50:00+05:00 -46.37151  138.82229  ...   -116.0     32.4\n",
       "2002-01-23 11:10:00+05:00 -46.36555  138.84374  ...    -86.0     33.0\n",
       "2002-01-23 11:11:00+05:00 -46.36447  138.84723  ...    -84.0     35.4\n",
       "\n",
       "[22036 rows x 7 columns]"
      ]
     },
     "execution_count": 27,
     "metadata": {},
     "output_type": "execute_result"
    }
   ],
   "source": [
    "track = pd.read_csv('./data/processed/noaa_tracklines/ew0114.csv', index_col=0)\n",
    "track"
   ]
  },
  {
   "cell_type": "code",
   "execution_count": 24,
   "metadata": {},
   "outputs": [],
   "source": [
    "from process_dataset import m77t_to_csv"
   ]
  },
  {
   "cell_type": "code",
   "execution_count": 26,
   "metadata": {},
   "outputs": [
    {
     "ename": "KeyError",
     "evalue": "['TIME']",
     "output_type": "error",
     "traceback": [
      "\u001b[0;31m---------------------------------------------------------------------------\u001b[0m",
      "\u001b[0;31mKeyError\u001b[0m                                  Traceback (most recent call last)",
      "\u001b[0;32m/tmp/ipykernel_5463/770808774.py\u001b[0m in \u001b[0;36m?\u001b[0;34m()\u001b[0m\n\u001b[0;32m----> 1\u001b[0;31m \u001b[0mprocessed\u001b[0m \u001b[0;34m=\u001b[0m \u001b[0mm77t_to_csv\u001b[0m\u001b[0;34m(\u001b[0m\u001b[0mtrack\u001b[0m\u001b[0;34m)\u001b[0m\u001b[0;34m\u001b[0m\u001b[0;34m\u001b[0m\u001b[0m\n\u001b[0m",
      "\u001b[0;32m~/research/process_dataset.py\u001b[0m in \u001b[0;36m?\u001b[0;34m(data)\u001b[0m\n\u001b[1;32m    133\u001b[0m     \u001b[0;34m:\u001b[0m\u001b[0mtype\u001b[0m \u001b[0mdata\u001b[0m\u001b[0;34m:\u001b[0m \u001b[0mPandas\u001b[0m \u001b[0mDataFrame\u001b[0m\u001b[0;34m\u001b[0m\u001b[0;34m\u001b[0m\u001b[0m\n\u001b[1;32m    134\u001b[0m \u001b[0;34m\u001b[0m\u001b[0m\n\u001b[1;32m    135\u001b[0m     \u001b[0;34m:\u001b[0m\u001b[0mreturns\u001b[0m\u001b[0;34m:\u001b[0m \u001b[0mthe\u001b[0m \u001b[0mtime\u001b[0m \u001b[0mindexed\u001b[0m \u001b[0;32mand\u001b[0m \u001b[0mdown\u001b[0m \u001b[0msampled\u001b[0m \u001b[0mdata\u001b[0m \u001b[0mframe\u001b[0m\u001b[0;34m.\u001b[0m\u001b[0;34m\u001b[0m\u001b[0;34m\u001b[0m\u001b[0m\n\u001b[1;32m    136\u001b[0m     \"\"\"\n\u001b[0;32m--> 137\u001b[0;31m     \u001b[0mdata\u001b[0m \u001b[0;34m=\u001b[0m \u001b[0mdata\u001b[0m\u001b[0;34m.\u001b[0m\u001b[0mdropna\u001b[0m\u001b[0;34m(\u001b[0m\u001b[0msubset\u001b[0m\u001b[0;34m=\u001b[0m\u001b[0;34m[\u001b[0m\u001b[0;34m\"TIME\"\u001b[0m\u001b[0;34m]\u001b[0m\u001b[0;34m)\u001b[0m\u001b[0;34m\u001b[0m\u001b[0;34m\u001b[0m\u001b[0m\n\u001b[0m\u001b[1;32m    138\u001b[0m     \u001b[0;31m# Reformate date, time, and timezone data from dataframe to propoer Python datetime\u001b[0m\u001b[0;34m\u001b[0m\u001b[0;34m\u001b[0m\u001b[0m\n\u001b[1;32m    139\u001b[0m     \u001b[0mdates\u001b[0m \u001b[0;34m=\u001b[0m \u001b[0mdata\u001b[0m\u001b[0;34m[\u001b[0m\u001b[0;34m\"DATE\"\u001b[0m\u001b[0;34m]\u001b[0m\u001b[0;34m.\u001b[0m\u001b[0mastype\u001b[0m\u001b[0;34m(\u001b[0m\u001b[0mint\u001b[0m\u001b[0;34m)\u001b[0m\u001b[0;34m\u001b[0m\u001b[0;34m\u001b[0m\u001b[0m\n\u001b[1;32m    140\u001b[0m     \u001b[0mtimes\u001b[0m \u001b[0;34m=\u001b[0m \u001b[0;34m(\u001b[0m\u001b[0mdata\u001b[0m\u001b[0;34m[\u001b[0m\u001b[0;34m\"TIME\"\u001b[0m\u001b[0;34m]\u001b[0m\u001b[0;34m.\u001b[0m\u001b[0mastype\u001b[0m\u001b[0;34m(\u001b[0m\u001b[0mfloat\u001b[0m\u001b[0;34m)\u001b[0m\u001b[0;34m)\u001b[0m\u001b[0;34m.\u001b[0m\u001b[0mapply\u001b[0m\u001b[0;34m(\u001b[0m\u001b[0mint\u001b[0m\u001b[0;34m)\u001b[0m\u001b[0;34m\u001b[0m\u001b[0;34m\u001b[0m\u001b[0m\n",
      "\u001b[0;32m~/miniconda3/envs/nav/lib/python3.12/site-packages/pandas/core/frame.py\u001b[0m in \u001b[0;36m?\u001b[0;34m(self, axis, how, thresh, subset, inplace, ignore_index)\u001b[0m\n\u001b[1;32m   6417\u001b[0m             \u001b[0max\u001b[0m \u001b[0;34m=\u001b[0m \u001b[0mself\u001b[0m\u001b[0;34m.\u001b[0m\u001b[0m_get_axis\u001b[0m\u001b[0;34m(\u001b[0m\u001b[0magg_axis\u001b[0m\u001b[0;34m)\u001b[0m\u001b[0;34m\u001b[0m\u001b[0;34m\u001b[0m\u001b[0m\n\u001b[1;32m   6418\u001b[0m             \u001b[0mindices\u001b[0m \u001b[0;34m=\u001b[0m \u001b[0max\u001b[0m\u001b[0;34m.\u001b[0m\u001b[0mget_indexer_for\u001b[0m\u001b[0;34m(\u001b[0m\u001b[0msubset\u001b[0m\u001b[0;34m)\u001b[0m\u001b[0;34m\u001b[0m\u001b[0;34m\u001b[0m\u001b[0m\n\u001b[1;32m   6419\u001b[0m             \u001b[0mcheck\u001b[0m \u001b[0;34m=\u001b[0m \u001b[0mindices\u001b[0m \u001b[0;34m==\u001b[0m \u001b[0;34m-\u001b[0m\u001b[0;36m1\u001b[0m\u001b[0;34m\u001b[0m\u001b[0;34m\u001b[0m\u001b[0m\n\u001b[1;32m   6420\u001b[0m             \u001b[0;32mif\u001b[0m \u001b[0mcheck\u001b[0m\u001b[0;34m.\u001b[0m\u001b[0many\u001b[0m\u001b[0;34m(\u001b[0m\u001b[0;34m)\u001b[0m\u001b[0;34m:\u001b[0m\u001b[0;34m\u001b[0m\u001b[0;34m\u001b[0m\u001b[0m\n\u001b[0;32m-> 6421\u001b[0;31m                 \u001b[0;32mraise\u001b[0m \u001b[0mKeyError\u001b[0m\u001b[0;34m(\u001b[0m\u001b[0mnp\u001b[0m\u001b[0;34m.\u001b[0m\u001b[0marray\u001b[0m\u001b[0;34m(\u001b[0m\u001b[0msubset\u001b[0m\u001b[0;34m)\u001b[0m\u001b[0;34m[\u001b[0m\u001b[0mcheck\u001b[0m\u001b[0;34m]\u001b[0m\u001b[0;34m.\u001b[0m\u001b[0mtolist\u001b[0m\u001b[0;34m(\u001b[0m\u001b[0;34m)\u001b[0m\u001b[0;34m)\u001b[0m\u001b[0;34m\u001b[0m\u001b[0;34m\u001b[0m\u001b[0m\n\u001b[0m\u001b[1;32m   6422\u001b[0m             \u001b[0magg_obj\u001b[0m \u001b[0;34m=\u001b[0m \u001b[0mself\u001b[0m\u001b[0;34m.\u001b[0m\u001b[0mtake\u001b[0m\u001b[0;34m(\u001b[0m\u001b[0mindices\u001b[0m\u001b[0;34m,\u001b[0m \u001b[0maxis\u001b[0m\u001b[0;34m=\u001b[0m\u001b[0magg_axis\u001b[0m\u001b[0;34m)\u001b[0m\u001b[0;34m\u001b[0m\u001b[0;34m\u001b[0m\u001b[0m\n\u001b[1;32m   6423\u001b[0m \u001b[0;34m\u001b[0m\u001b[0m\n\u001b[1;32m   6424\u001b[0m         \u001b[0;32mif\u001b[0m \u001b[0mthresh\u001b[0m \u001b[0;32mis\u001b[0m \u001b[0;32mnot\u001b[0m \u001b[0mlib\u001b[0m\u001b[0;34m.\u001b[0m\u001b[0mno_default\u001b[0m\u001b[0;34m:\u001b[0m\u001b[0;34m\u001b[0m\u001b[0;34m\u001b[0m\u001b[0m\n",
      "\u001b[0;31mKeyError\u001b[0m: ['TIME']"
     ]
    }
   ],
   "source": [
    "processed = m77t_to_csv(track)"
   ]
  },
  {
   "cell_type": "code",
   "execution_count": null,
   "metadata": {},
   "outputs": [],
   "source": []
  }
 ],
 "metadata": {
  "kernelspec": {
   "display_name": "geophysical_nav",
   "language": "python",
   "name": "python3"
  },
  "language_info": {
   "codemirror_mode": {
    "name": "ipython",
    "version": 3
   },
   "file_extension": ".py",
   "mimetype": "text/x-python",
   "name": "python",
   "nbconvert_exporter": "python",
   "pygments_lexer": "ipython3",
   "version": "3.12.0"
  },
  "orig_nbformat": 4
 },
 "nbformat": 4,
 "nbformat_minor": 2
}
